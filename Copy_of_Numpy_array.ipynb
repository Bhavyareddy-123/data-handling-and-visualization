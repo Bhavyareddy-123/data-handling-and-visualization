{
  "nbformat": 4,
  "nbformat_minor": 0,
  "metadata": {
    "colab": {
      "provenance": [],
      "authorship_tag": "ABX9TyMH+//SEJv8IQnsVfeCAul4",
      "include_colab_link": true
    },
    "kernelspec": {
      "name": "python3",
      "display_name": "Python 3"
    },
    "language_info": {
      "name": "python"
    }
  },
  "cells": [
    {
      "cell_type": "markdown",
      "metadata": {
        "id": "view-in-github",
        "colab_type": "text"
      },
      "source": [
        "<a href=\"https://colab.research.google.com/github/Bhavyareddy-123/data-handling-and-visualization/blob/main/Copy_of_Numpy_array.ipynb\" target=\"_parent\"><img src=\"https://colab.research.google.com/assets/colab-badge.svg\" alt=\"Open In Colab\"/></a>"
      ]
    },
    {
      "cell_type": "code",
      "execution_count": null,
      "metadata": {
        "colab": {
          "base_uri": "https://localhost:8080/"
        },
        "id": "KHPj4Ztdp4QO",
        "outputId": "85cdc183-2ab8-4ebf-e882-34e98ac85d92"
      },
      "outputs": [
        {
          "output_type": "stream",
          "name": "stdout",
          "text": [
            "[1 2 3]\n"
          ]
        }
      ],
      "source": [
        "import numpy as np\n",
        "arr1=np.array([1,2,3])\n",
        "print(arr1)"
      ]
    },
    {
      "cell_type": "code",
      "source": [
        "import numpy as np\n",
        "arr1=np.array([1,2,3])\n",
        "print(arr1)\n",
        "print(arr1[1])\n",
        "arr1[1]=90\n",
        "print(arr1)"
      ],
      "metadata": {
        "colab": {
          "base_uri": "https://localhost:8080/"
        },
        "id": "cJWJ4vL9rFPO",
        "outputId": "9510fd64-2739-4f80-d3c4-ca4136d4b215"
      },
      "execution_count": null,
      "outputs": [
        {
          "output_type": "stream",
          "name": "stdout",
          "text": [
            "[1 2 3]\n",
            "2\n",
            "[ 1 90  3]\n"
          ]
        }
      ]
    },
    {
      "cell_type": "code",
      "source": [
        "arr2 = np.array([[1,2,3],[4,5,6]])\n",
        "print(arr2)\n",
        "print(arr2[1,1])\n",
        "print(arr2[1,1])\n",
        "print(\"\\n\")\n",
        "print(\"order of matrix is\", arr2.shape)"
      ],
      "metadata": {
        "colab": {
          "base_uri": "https://localhost:8080/"
        },
        "id": "ClJgWRNjrZs3",
        "outputId": "42fc92a1-67ad-4ddc-975f-e41443b77c63"
      },
      "execution_count": null,
      "outputs": [
        {
          "output_type": "stream",
          "name": "stdout",
          "text": [
            "[[1 2 3]\n",
            " [4 5 6]]\n",
            "5\n",
            "5\n",
            "\n",
            "\n",
            "order of matrix is (2, 3)\n"
          ]
        }
      ]
    },
    {
      "cell_type": "code",
      "source": [
        "import numpy as np\n",
        "arr3 = np.arange(2,20,4)\n",
        "print(arr3)"
      ],
      "metadata": {
        "colab": {
          "base_uri": "https://localhost:8080/"
        },
        "id": "wEdtI9GnsFPi",
        "outputId": "7dd09cf4-99ec-444b-8228-67d7805969b5"
      },
      "execution_count": null,
      "outputs": [
        {
          "output_type": "stream",
          "name": "stdout",
          "text": [
            "[ 2  6 10 14 18]\n"
          ]
        }
      ]
    },
    {
      "cell_type": "code",
      "source": [
        "arr5 = np.random.rand(10)\n",
        "print(arr5)"
      ],
      "metadata": {
        "colab": {
          "base_uri": "https://localhost:8080/"
        },
        "id": "shDwiMmnsnFa",
        "outputId": "b103592b-33c2-4007-af68-c21007bc56b7"
      },
      "execution_count": null,
      "outputs": [
        {
          "output_type": "stream",
          "name": "stdout",
          "text": [
            "[0.2004462  0.77973635 0.22037256 0.57651454 0.74108524 0.08084658\n",
            " 0.20884447 0.79426841 0.32438205 0.88552943]\n"
          ]
        }
      ]
    },
    {
      "cell_type": "code",
      "source": [
        "arr7 = np.random.randint(5,10)\n",
        "print(arr7)"
      ],
      "metadata": {
        "colab": {
          "base_uri": "https://localhost:8080/"
        },
        "id": "913ToLlHsypP",
        "outputId": "3bb113c2-7a68-4142-dd1d-db8649a1ef31"
      },
      "execution_count": null,
      "outputs": [
        {
          "output_type": "stream",
          "name": "stdout",
          "text": [
            "6\n"
          ]
        }
      ]
    },
    {
      "cell_type": "code",
      "source": [
        "arr6 = np.array([4,5,6])\n",
        "print(np.repeat(arr6,2))\n"
      ],
      "metadata": {
        "colab": {
          "base_uri": "https://localhost:8080/"
        },
        "id": "FLyIXf0mtD5Z",
        "outputId": "0e5a1f37-4477-4299-dd7d-bd3778a0b5c8"
      },
      "execution_count": null,
      "outputs": [
        {
          "output_type": "stream",
          "name": "stdout",
          "text": [
            "[4 4 5 5 6 6]\n"
          ]
        }
      ]
    },
    {
      "cell_type": "code",
      "source": [
        "arr6=np.array([4,5,6])\n",
        "print(np.tile(arr6,2))"
      ],
      "metadata": {
        "colab": {
          "base_uri": "https://localhost:8080/"
        },
        "id": "ccEciIPDtWvU",
        "outputId": "1ea5bee7-fbf7-478f-ea3e-342166de5e22"
      },
      "execution_count": null,
      "outputs": [
        {
          "output_type": "stream",
          "name": "stdout",
          "text": [
            "[4 5 6 4 5 6]\n"
          ]
        }
      ]
    }
  ]
}